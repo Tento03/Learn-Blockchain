{
  "nbformat": 4,
  "nbformat_minor": 0,
  "metadata": {
    "colab": {
      "provenance": []
    },
    "kernelspec": {
      "name": "python3",
      "display_name": "Python 3"
    },
    "language_info": {
      "name": "python"
    }
  },
  "cells": [
    {
      "cell_type": "code",
      "execution_count": 3,
      "metadata": {
        "colab": {
          "base_uri": "https://localhost:8080/"
        },
        "id": "UyiMZk7sfNnE",
        "outputId": "230af10f-fec8-41a1-8d91-a242f96647d0"
      },
      "outputs": [
        {
          "output_type": "stream",
          "name": "stdout",
          "text": [
            "🎯 Mining dengan difficulty: 30\n",
            "✅ Nonce ditemukan: 36270606\n",
            "🔗 Hash: 00000000771ed6b7389d92487849654511134a21b3d40dcb457e43a297229e2b\n",
            "🎯 Target maksimal: 0x400000000000000000000000000000000000000000000000000000000\n"
          ]
        }
      ],
      "source": [
        "import hashlib\n",
        "import time\n",
        "\n",
        "def double_sha256(s):\n",
        "    return hashlib.sha256(hashlib.sha256(s.encode()).digest()).hexdigest()\n",
        "\n",
        "def mine_block(prev_hash, merkle_root, difficulty_bits):\n",
        "    # Buat target numerik berdasarkan difficulty\n",
        "    target = 2 ** (256 - difficulty_bits)\n",
        "\n",
        "    timestamp = str(int(time.time()))\n",
        "    nonce = 0\n",
        "    print(\"🎯 Mining dengan difficulty:\", difficulty_bits)\n",
        "\n",
        "    while True:\n",
        "        block_header = prev_hash + merkle_root + timestamp + str(nonce)\n",
        "        hash_hex = double_sha256(block_header)\n",
        "        hash_int = int(hash_hex, 16)\n",
        "\n",
        "        if hash_int < target:\n",
        "            return nonce, hash_hex, target\n",
        "\n",
        "        nonce += 1\n",
        "\n",
        "# Simulasi input\n",
        "prev_hash = \"000000000000000000abc123def4567890\"  # contoh hash blok sebelumnya\n",
        "merkle_root = \"abcdef1234567890fedcba0987654321\"  # contoh Merkle root\n",
        "difficulty_bits = 30  # semakin besar → semakin sulit\n",
        "\n",
        "nonce, valid_hash, target_val = mine_block(prev_hash, merkle_root, difficulty_bits)\n",
        "\n",
        "print(\"✅ Nonce ditemukan:\", nonce)\n",
        "print(\"🔗 Hash:\", valid_hash)\n",
        "print(\"🎯 Target maksimal:\", hex(target_val))\n"
      ]
    },
    {
      "cell_type": "code",
      "source": [],
      "metadata": {
        "id": "vMXO7rQBfPQ0"
      },
      "execution_count": null,
      "outputs": []
    }
  ]
}