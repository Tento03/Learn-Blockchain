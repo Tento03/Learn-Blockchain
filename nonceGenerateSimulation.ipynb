{
  "nbformat": 4,
  "nbformat_minor": 0,
  "metadata": {
    "colab": {
      "provenance": []
    },
    "kernelspec": {
      "name": "python3",
      "display_name": "Python 3"
    },
    "language_info": {
      "name": "python"
    }
  },
  "cells": [
    {
      "cell_type": "code",
      "execution_count": 4,
      "metadata": {
        "colab": {
          "base_uri": "https://localhost:8080/"
        },
        "id": "jGngl_8kGyCh",
        "outputId": "cc4cbb8b-4224-40dd-8bad-06a9bb8a5c49"
      },
      "outputs": [
        {
          "output_type": "stream",
          "name": "stdout",
          "text": [
            "✅ Nonce ditemukan: 91610\n",
            "🔗 Hash: 0000b802f18db95414647a696a2b574dfa27c5a652741e9a3abf4364578dfc41\n"
          ]
        }
      ],
      "source": [
        "import hashlib\n",
        "\n",
        "def double_sha256(s):\n",
        "    return hashlib.sha256(hashlib.sha256(s.encode()).digest()).hexdigest()\n",
        "\n",
        "def mine_block(block_data, target_prefix='0000'):\n",
        "    nonce = 0\n",
        "    while True:\n",
        "        input_str = block_data + str(nonce)\n",
        "        hash_result = double_sha256(input_str)\n",
        "\n",
        "        if hash_result.startswith(target_prefix):\n",
        "            return nonce, hash_result\n",
        "\n",
        "        nonce += 1\n",
        "\n",
        "# Simulasi\n",
        "block_data = \"block123|prev_hash|merkle_root|timestamp\"\n",
        "nonce, hash_result = mine_block(block_data, target_prefix='0000')\n",
        "\n",
        "print(\"✅ Nonce ditemukan:\", nonce)\n",
        "print(\"🔗 Hash:\", hash_result)"
      ]
    },
    {
      "cell_type": "code",
      "source": [],
      "metadata": {
        "id": "sctdtZk1HD_3"
      },
      "execution_count": null,
      "outputs": []
    }
  ]
}